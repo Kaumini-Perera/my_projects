{
  "metadata": {
    "kernelspec": {
      "language": "python",
      "display_name": "Python 3",
      "name": "python3"
    },
    "language_info": {
      "name": "python",
      "version": "3.10.14",
      "mimetype": "text/x-python",
      "codemirror_mode": {
        "name": "ipython",
        "version": 3
      },
      "pygments_lexer": "ipython3",
      "nbconvert_exporter": "python",
      "file_extension": ".py"
    },
    "kaggle": {
      "accelerator": "none",
      "dataSources": [
        {
          "sourceId": 4200454,
          "sourceType": "datasetVersion",
          "datasetId": 2476732
        }
      ],
      "dockerImageVersionId": 30761,
      "isInternetEnabled": true,
      "language": "python",
      "sourceType": "notebook",
      "isGpuEnabled": false
    },
    "colab": {
      "name": "Business Intelligence GA",
      "provenance": []
    }
  },
  "nbformat_minor": 0,
  "nbformat": 4,
  "cells": [
    {
      "source": [
        "# IMPORTANT: RUN THIS CELL IN ORDER TO IMPORT YOUR KAGGLE DATA SOURCES\n",
        "# TO THE CORRECT LOCATION (/kaggle/input) IN YOUR NOTEBOOK,\n",
        "# THEN FEEL FREE TO DELETE THIS CELL.\n",
        "# NOTE: THIS NOTEBOOK ENVIRONMENT DIFFERS FROM KAGGLE'S PYTHON\n",
        "# ENVIRONMENT SO THERE MAY BE MISSING LIBRARIES USED BY YOUR\n",
        "# NOTEBOOK.\n",
        "\n",
        "import os\n",
        "import sys\n",
        "from tempfile import NamedTemporaryFile\n",
        "from urllib.request import urlopen\n",
        "from urllib.parse import unquote, urlparse\n",
        "from urllib.error import HTTPError\n",
        "from zipfile import ZipFile\n",
        "import tarfile\n",
        "import shutil\n",
        "\n",
        "CHUNK_SIZE = 40960\n",
        "DATA_SOURCE_MAPPING = 'amazon-books-reviews:https%3A%2F%2Fstorage.googleapis.com%2Fkaggle-data-sets%2F2476732%2F4200454%2Fbundle%2Farchive.zip%3FX-Goog-Algorithm%3DGOOG4-RSA-SHA256%26X-Goog-Credential%3Dgcp-kaggle-com%2540kaggle-161607.iam.gserviceaccount.com%252F20240904%252Fauto%252Fstorage%252Fgoog4_request%26X-Goog-Date%3D20240904T070744Z%26X-Goog-Expires%3D259200%26X-Goog-SignedHeaders%3Dhost%26X-Goog-Signature%3D63734674518450559419f2a4efa8d962e101eae6ff601eb6722e120856e001f20dc34d82f4bc0999088ed7dc13ce77c42629842d3b3cf7b2196d78636f23c7d561bf9d3bb7cf40689029da97f4a4b16786ab44b54cce836526e81fea0583b73d1438bbaeded19dcaf9a3257fe2c952174910758e429f9f54c4debb04872b20c198872786bc559e01cf5dd47528b95e18e4fdfae368e570cf9fa084b2d19da3dc2679ca6c541f6aa1c3be0a6f8b8ebe5e60bd253e635fc4fbdc33baecefdaf2c14716ea11aeb2ade10e789f27bf6f2a0cc2813305474af958146705a9386ec7493c532f5b15051fcd38918378fd4e00e80629735cd757722c0e99009f6b654cf2'\n",
        "\n",
        "KAGGLE_INPUT_PATH='/kaggle/input'\n",
        "KAGGLE_WORKING_PATH='/kaggle/working'\n",
        "KAGGLE_SYMLINK='kaggle'\n",
        "\n",
        "!umount /kaggle/input/ 2> /dev/null\n",
        "shutil.rmtree('/kaggle/input', ignore_errors=True)\n",
        "os.makedirs(KAGGLE_INPUT_PATH, 0o777, exist_ok=True)\n",
        "os.makedirs(KAGGLE_WORKING_PATH, 0o777, exist_ok=True)\n",
        "\n",
        "try:\n",
        "  os.symlink(KAGGLE_INPUT_PATH, os.path.join(\"..\", 'input'), target_is_directory=True)\n",
        "except FileExistsError:\n",
        "  pass\n",
        "try:\n",
        "  os.symlink(KAGGLE_WORKING_PATH, os.path.join(\"..\", 'working'), target_is_directory=True)\n",
        "except FileExistsError:\n",
        "  pass\n",
        "\n",
        "for data_source_mapping in DATA_SOURCE_MAPPING.split(','):\n",
        "    directory, download_url_encoded = data_source_mapping.split(':')\n",
        "    download_url = unquote(download_url_encoded)\n",
        "    filename = urlparse(download_url).path\n",
        "    destination_path = os.path.join(KAGGLE_INPUT_PATH, directory)\n",
        "    try:\n",
        "        with urlopen(download_url) as fileres, NamedTemporaryFile() as tfile:\n",
        "            total_length = fileres.headers['content-length']\n",
        "            print(f'Downloading {directory}, {total_length} bytes compressed')\n",
        "            dl = 0\n",
        "            data = fileres.read(CHUNK_SIZE)\n",
        "            while len(data) > 0:\n",
        "                dl += len(data)\n",
        "                tfile.write(data)\n",
        "                done = int(50 * dl / int(total_length))\n",
        "                sys.stdout.write(f\"\\r[{'=' * done}{' ' * (50-done)}] {dl} bytes downloaded\")\n",
        "                sys.stdout.flush()\n",
        "                data = fileres.read(CHUNK_SIZE)\n",
        "            if filename.endswith('.zip'):\n",
        "              with ZipFile(tfile) as zfile:\n",
        "                zfile.extractall(destination_path)\n",
        "            else:\n",
        "              with tarfile.open(tfile.name) as tarfile:\n",
        "                tarfile.extractall(destination_path)\n",
        "            print(f'\\nDownloaded and uncompressed: {directory}')\n",
        "    except HTTPError as e:\n",
        "        print(f'Failed to load (likely expired) {download_url} to path {destination_path}')\n",
        "        continue\n",
        "    except OSError as e:\n",
        "        print(f'Failed to load {download_url} to path {destination_path}')\n",
        "        continue\n",
        "\n",
        "print('Data source import complete.')\n"
      ],
      "metadata": {
        "id": "vvrpsRkh3G09"
      },
      "cell_type": "code",
      "outputs": [],
      "execution_count": null
    },
    {
      "cell_type": "code",
      "source": [
        "import numpy as np\n",
        "import pandas as pd"
      ],
      "metadata": {
        "_uuid": "8f2839f25d086af736a60e9eeb907d3b93b6e0e5",
        "_cell_guid": "b1076dfc-b9ad-4769-8c92-a6c4dae69d19",
        "editable": false,
        "execution": {
          "iopub.status.busy": "2024-09-04T02:03:23.419501Z",
          "iopub.execute_input": "2024-09-04T02:03:23.420026Z",
          "iopub.status.idle": "2024-09-04T02:03:23.903196Z",
          "shell.execute_reply.started": "2024-09-04T02:03:23.419979Z",
          "shell.execute_reply": "2024-09-04T02:03:23.901512Z"
        },
        "trusted": true,
        "id": "mKHquc0S3G1I"
      },
      "execution_count": null,
      "outputs": []
    },
    {
      "cell_type": "code",
      "source": [
        "ratings = pd.read_csv('/kaggle/input/amazon-books-reviews/Books_rating.csv')\n",
        "ratings.head()"
      ],
      "metadata": {
        "editable": false,
        "execution": {
          "iopub.status.busy": "2024-09-04T02:03:26.377774Z",
          "iopub.execute_input": "2024-09-04T02:03:26.378374Z",
          "iopub.status.idle": "2024-09-04T02:04:40.404069Z",
          "shell.execute_reply.started": "2024-09-04T02:03:26.37833Z",
          "shell.execute_reply": "2024-09-04T02:04:40.402902Z"
        },
        "trusted": true,
        "id": "cgKyoboj3G1J",
        "outputId": "4943842d-e7fb-4019-e7ef-f0aa66533593"
      },
      "execution_count": null,
      "outputs": [
        {
          "execution_count": 2,
          "output_type": "execute_result",
          "data": {
            "text/plain": "           Id                           Title  Price         User_id  \\\n0  1882931173  Its Only Art If Its Well Hung!    NaN   AVCGYZL8FQQTD   \n1  0826414346        Dr. Seuss: American Icon    NaN  A30TK6U7DNS82R   \n2  0826414346        Dr. Seuss: American Icon    NaN  A3UH4UZ4RSVO82   \n3  0826414346        Dr. Seuss: American Icon    NaN  A2MVUWT453QH61   \n4  0826414346        Dr. Seuss: American Icon    NaN  A22X4XUPKF66MR   \n\n                          profileName review/helpfulness  review/score  \\\n0               Jim of Oz \"jim-of-oz\"                7/7           4.0   \n1                       Kevin Killian              10/10           5.0   \n2                        John Granger              10/11           5.0   \n3  Roy E. Perry \"amateur philosopher\"                7/7           4.0   \n4     D. H. Richards \"ninthwavestore\"                3/3           4.0   \n\n   review/time                                   review/summary  \\\n0    940636800           Nice collection of Julie Strain images   \n1   1095724800                                Really Enjoyed It   \n2   1078790400  Essential for every personal and Public Library   \n3   1090713600  Phlip Nel gives silly Seuss a serious treatment   \n4   1107993600                           Good academic overview   \n\n                                         review/text  \n0  This is only for Julie Strain fans. It's a col...  \n1  I don't care much for Dr. Seuss but after read...  \n2  If people become the books they read and if \"t...  \n3  Theodore Seuss Geisel (1904-1991), aka &quot;D...  \n4  Philip Nel - Dr. Seuss: American IconThis is b...  ",
            "text/html": "<div>\n<style scoped>\n    .dataframe tbody tr th:only-of-type {\n        vertical-align: middle;\n    }\n\n    .dataframe tbody tr th {\n        vertical-align: top;\n    }\n\n    .dataframe thead th {\n        text-align: right;\n    }\n</style>\n<table border=\"1\" class=\"dataframe\">\n  <thead>\n    <tr style=\"text-align: right;\">\n      <th></th>\n      <th>Id</th>\n      <th>Title</th>\n      <th>Price</th>\n      <th>User_id</th>\n      <th>profileName</th>\n      <th>review/helpfulness</th>\n      <th>review/score</th>\n      <th>review/time</th>\n      <th>review/summary</th>\n      <th>review/text</th>\n    </tr>\n  </thead>\n  <tbody>\n    <tr>\n      <th>0</th>\n      <td>1882931173</td>\n      <td>Its Only Art If Its Well Hung!</td>\n      <td>NaN</td>\n      <td>AVCGYZL8FQQTD</td>\n      <td>Jim of Oz \"jim-of-oz\"</td>\n      <td>7/7</td>\n      <td>4.0</td>\n      <td>940636800</td>\n      <td>Nice collection of Julie Strain images</td>\n      <td>This is only for Julie Strain fans. It's a col...</td>\n    </tr>\n    <tr>\n      <th>1</th>\n      <td>0826414346</td>\n      <td>Dr. Seuss: American Icon</td>\n      <td>NaN</td>\n      <td>A30TK6U7DNS82R</td>\n      <td>Kevin Killian</td>\n      <td>10/10</td>\n      <td>5.0</td>\n      <td>1095724800</td>\n      <td>Really Enjoyed It</td>\n      <td>I don't care much for Dr. Seuss but after read...</td>\n    </tr>\n    <tr>\n      <th>2</th>\n      <td>0826414346</td>\n      <td>Dr. Seuss: American Icon</td>\n      <td>NaN</td>\n      <td>A3UH4UZ4RSVO82</td>\n      <td>John Granger</td>\n      <td>10/11</td>\n      <td>5.0</td>\n      <td>1078790400</td>\n      <td>Essential for every personal and Public Library</td>\n      <td>If people become the books they read and if \"t...</td>\n    </tr>\n    <tr>\n      <th>3</th>\n      <td>0826414346</td>\n      <td>Dr. Seuss: American Icon</td>\n      <td>NaN</td>\n      <td>A2MVUWT453QH61</td>\n      <td>Roy E. Perry \"amateur philosopher\"</td>\n      <td>7/7</td>\n      <td>4.0</td>\n      <td>1090713600</td>\n      <td>Phlip Nel gives silly Seuss a serious treatment</td>\n      <td>Theodore Seuss Geisel (1904-1991), aka &amp;quot;D...</td>\n    </tr>\n    <tr>\n      <th>4</th>\n      <td>0826414346</td>\n      <td>Dr. Seuss: American Icon</td>\n      <td>NaN</td>\n      <td>A22X4XUPKF66MR</td>\n      <td>D. H. Richards \"ninthwavestore\"</td>\n      <td>3/3</td>\n      <td>4.0</td>\n      <td>1107993600</td>\n      <td>Good academic overview</td>\n      <td>Philip Nel - Dr. Seuss: American IconThis is b...</td>\n    </tr>\n  </tbody>\n</table>\n</div>"
          },
          "metadata": {}
        }
      ]
    },
    {
      "cell_type": "code",
      "source": [
        "ratings.dtypes"
      ],
      "metadata": {
        "execution": {
          "iopub.status.busy": "2024-09-04T02:04:40.406441Z",
          "iopub.execute_input": "2024-09-04T02:04:40.406856Z",
          "iopub.status.idle": "2024-09-04T02:04:40.416186Z",
          "shell.execute_reply.started": "2024-09-04T02:04:40.406815Z",
          "shell.execute_reply": "2024-09-04T02:04:40.414839Z"
        },
        "trusted": true,
        "id": "gq2tQEEU3G1L",
        "outputId": "f8d6b92e-9c87-4603-940f-1ff08587713a"
      },
      "execution_count": null,
      "outputs": [
        {
          "execution_count": 3,
          "output_type": "execute_result",
          "data": {
            "text/plain": "Id                     object\nTitle                  object\nPrice                 float64\nUser_id                object\nprofileName            object\nreview/helpfulness     object\nreview/score          float64\nreview/time             int64\nreview/summary         object\nreview/text            object\ndtype: object"
          },
          "metadata": {}
        }
      ]
    },
    {
      "cell_type": "code",
      "source": [
        "ratings.drop(['Id', 'User_id', 'profileName', 'review/time'], axis = 1, inplace=True)\n",
        "ratings.isnull().sum()"
      ],
      "metadata": {
        "execution": {
          "iopub.status.busy": "2024-09-04T02:04:40.41802Z",
          "iopub.execute_input": "2024-09-04T02:04:40.41846Z",
          "iopub.status.idle": "2024-09-04T02:04:42.068887Z",
          "shell.execute_reply.started": "2024-09-04T02:04:40.418417Z",
          "shell.execute_reply": "2024-09-04T02:04:42.06763Z"
        },
        "trusted": true,
        "id": "DzC6v8-n3G1M",
        "outputId": "c024a70c-1308-4af8-9c94-331d7fc77f59"
      },
      "execution_count": null,
      "outputs": [
        {
          "execution_count": 4,
          "output_type": "execute_result",
          "data": {
            "text/plain": "Title                     208\nPrice                 2518829\nreview/helpfulness          0\nreview/score                0\nreview/summary            407\nreview/text                 8\ndtype: int64"
          },
          "metadata": {}
        }
      ]
    },
    {
      "cell_type": "code",
      "source": [
        "ratings.shape"
      ],
      "metadata": {
        "execution": {
          "iopub.status.busy": "2024-09-04T02:04:42.071436Z",
          "iopub.execute_input": "2024-09-04T02:04:42.071846Z",
          "iopub.status.idle": "2024-09-04T02:04:42.079199Z",
          "shell.execute_reply.started": "2024-09-04T02:04:42.071805Z",
          "shell.execute_reply": "2024-09-04T02:04:42.078153Z"
        },
        "trusted": true,
        "id": "Er3nHj2A3G1N",
        "outputId": "cc86b579-34dc-49e1-e22c-df5a8f3856ed"
      },
      "execution_count": null,
      "outputs": [
        {
          "execution_count": 5,
          "output_type": "execute_result",
          "data": {
            "text/plain": "(3000000, 6)"
          },
          "metadata": {}
        }
      ]
    },
    {
      "cell_type": "markdown",
      "source": [
        "# Preprocessing"
      ],
      "metadata": {
        "id": "Na2EBZ4f3G1O"
      }
    },
    {
      "cell_type": "code",
      "source": [
        "ratings.dropna(subset=['Title', 'review/summary', 'review/text'], inplace=True)\n",
        "ratings.isnull().sum()"
      ],
      "metadata": {
        "execution": {
          "iopub.status.busy": "2024-09-04T02:04:42.080763Z",
          "iopub.execute_input": "2024-09-04T02:04:42.081195Z",
          "iopub.status.idle": "2024-09-04T02:04:45.21731Z",
          "shell.execute_reply.started": "2024-09-04T02:04:42.081156Z",
          "shell.execute_reply": "2024-09-04T02:04:45.215679Z"
        },
        "trusted": true,
        "id": "QLjbX8BC3G1R",
        "outputId": "0b7eb788-db14-4644-f92b-bd34804d5577"
      },
      "execution_count": null,
      "outputs": [
        {
          "execution_count": 6,
          "output_type": "execute_result",
          "data": {
            "text/plain": "Title                       0\nPrice                 2518250\nreview/helpfulness          0\nreview/score                0\nreview/summary              0\nreview/text                 0\ndtype: int64"
          },
          "metadata": {}
        }
      ]
    },
    {
      "cell_type": "code",
      "source": [
        "ratings.shape"
      ],
      "metadata": {
        "execution": {
          "iopub.status.busy": "2024-09-04T02:04:45.219398Z",
          "iopub.execute_input": "2024-09-04T02:04:45.220018Z",
          "iopub.status.idle": "2024-09-04T02:04:45.227359Z",
          "shell.execute_reply.started": "2024-09-04T02:04:45.219943Z",
          "shell.execute_reply": "2024-09-04T02:04:45.226115Z"
        },
        "trusted": true,
        "id": "TW9suCvX3G1S",
        "outputId": "cd4522e1-c33a-4176-e497-719e45283c6c"
      },
      "execution_count": null,
      "outputs": [
        {
          "execution_count": 7,
          "output_type": "execute_result",
          "data": {
            "text/plain": "(2999377, 6)"
          },
          "metadata": {}
        }
      ]
    },
    {
      "cell_type": "code",
      "source": [
        "from nltk.stem import PorterStemmer\n",
        "from nltk.tokenize import word_tokenize\n",
        "from nltk.corpus import stopwords\n",
        "import re\n",
        "import numpy as np\n",
        "\n",
        "# Initialize the PorterStemmer\n",
        "stemmer = PorterStemmer()\n",
        "\n",
        "# Preprocessing function\n",
        "def preprocess_text_vectorized(text_series):\n",
        "    text_series = text_series.str.lower()\n",
        "    text_series = text_series.str.replace(r'[^\\w\\s]', '', regex=True)\n",
        "    text_series = text_series.str.replace(r'\\d+', '', regex=True)\n",
        "    text_series = text_series.apply(word_tokenize)\n",
        "\n",
        "    stop_words = set(stopwords.words('english'))\n",
        "\n",
        "    # Remove stop words and apply stemming\n",
        "    text_series = text_series.apply(lambda tokens: [stemmer.stem(word) for word in tokens if word not in stop_words])\n",
        "\n",
        "    return text_series.str.join(' ')\n",
        "\n",
        "# Split the dataset into chunks (adjust the number of splits as needed)\n",
        "n_splits = 30  # You can adjust this number based on the size of your data and available memory\n",
        "chunks = np.array_split(ratings, n_splits)\n",
        "\n",
        "# Process each chunk and save the result separately\n",
        "for i, chunk in enumerate(chunks):\n",
        "    chunk['title'] = preprocess_text_vectorized(chunk['Title'])\n",
        "    chunk['review/Summary'] = preprocess_text_vectorized(chunk['review/summary'])\n",
        "    chunk['review/Text'] = preprocess_text_vectorized(chunk['review/text'])\n",
        "\n",
        "    # Save each processed chunk to a separate CSV file\n",
        "    chunk.to_csv(f\"Cleaned_ratings_chunk_{i}.csv\", index=False)\n",
        "    print(f\"Processed and saved chunk {i + 1} of {n_splits}\")\n",
        "\n",
        "# List to hold each chunk DataFrame\n",
        "processed_chunks = []\n",
        "\n",
        "# Load each processed chunk and append to the list\n",
        "for i in range(n_splits):\n",
        "    chunk = pd.read_csv(f\"Cleaned_ratings_chunk_{i}.csv\")\n",
        "    processed_chunks.append(chunk)\n",
        "\n",
        "# Combine all chunks into a single DataFrame\n",
        "processed_ratings = pd.concat(processed_chunks, ignore_index=True)\n",
        "\n",
        "# Save the combined DataFrame\n",
        "processed_ratings.to_csv(\"Cleaned_ratings_combined.csv\", index=False)\n",
        "\n",
        "print(\"All chunks combined and saved as 'Cleaned_ratings_combined.csv'\")"
      ],
      "metadata": {
        "execution": {
          "iopub.status.busy": "2024-09-04T02:15:17.409252Z",
          "iopub.execute_input": "2024-09-04T02:15:17.409731Z",
          "iopub.status.idle": "2024-09-04T06:32:00.264605Z",
          "shell.execute_reply.started": "2024-09-04T02:15:17.40969Z",
          "shell.execute_reply": "2024-09-04T06:32:00.262917Z"
        },
        "trusted": true,
        "id": "Jkb-1GPu3G1T",
        "outputId": "b94257e7-fd28-44f8-8519-8d9b1013ceda"
      },
      "execution_count": null,
      "outputs": [
        {
          "name": "stderr",
          "text": "/opt/conda/lib/python3.10/site-packages/numpy/core/fromnumeric.py:59: FutureWarning: 'DataFrame.swapaxes' is deprecated and will be removed in a future version. Please use 'DataFrame.transpose' instead.\n  return bound(*args, **kwds)\n",
          "output_type": "stream"
        },
        {
          "name": "stdout",
          "text": "Processed and saved chunk 1 of 30\nProcessed and saved chunk 2 of 30\nProcessed and saved chunk 3 of 30\nProcessed and saved chunk 4 of 30\nProcessed and saved chunk 5 of 30\nProcessed and saved chunk 6 of 30\nProcessed and saved chunk 7 of 30\nProcessed and saved chunk 8 of 30\nProcessed and saved chunk 9 of 30\nProcessed and saved chunk 10 of 30\nProcessed and saved chunk 11 of 30\nProcessed and saved chunk 12 of 30\nProcessed and saved chunk 13 of 30\nProcessed and saved chunk 14 of 30\nProcessed and saved chunk 15 of 30\nProcessed and saved chunk 16 of 30\nProcessed and saved chunk 17 of 30\nProcessed and saved chunk 18 of 30\nProcessed and saved chunk 19 of 30\nProcessed and saved chunk 20 of 30\nProcessed and saved chunk 21 of 30\nProcessed and saved chunk 22 of 30\nProcessed and saved chunk 23 of 30\nProcessed and saved chunk 24 of 30\nProcessed and saved chunk 25 of 30\nProcessed and saved chunk 26 of 30\nProcessed and saved chunk 27 of 30\nProcessed and saved chunk 28 of 30\nProcessed and saved chunk 29 of 30\nProcessed and saved chunk 30 of 30\nAll chunks combined and saved as 'Cleaned_ratings_combined.csv'\n",
          "output_type": "stream"
        }
      ]
    },
    {
      "cell_type": "markdown",
      "source": [
        "# Sentiment Analysis"
      ],
      "metadata": {
        "id": "QhCALTpB3G1V"
      }
    },
    {
      "cell_type": "code",
      "source": [
        "import numpy as np\n",
        "import pandas as pd\n",
        "\n",
        "ratings = pd.read_csv('/kaggle/working/Cleaned_ratings_combined.csv')\n",
        "ratings.head()"
      ],
      "metadata": {
        "execution": {
          "iopub.status.busy": "2024-09-04T06:43:53.421939Z",
          "iopub.execute_input": "2024-09-04T06:43:53.423679Z",
          "iopub.status.idle": "2024-09-04T06:45:04.509702Z",
          "shell.execute_reply.started": "2024-09-04T06:43:53.423573Z",
          "shell.execute_reply": "2024-09-04T06:45:04.508198Z"
        },
        "trusted": true,
        "id": "FnjnLWkv3G1V",
        "outputId": "f6671343-df2e-474d-ac00-fb4c4a44cf86"
      },
      "execution_count": null,
      "outputs": [
        {
          "execution_count": 14,
          "output_type": "execute_result",
          "data": {
            "text/plain": "                            Title  Price review/helpfulness  review/score  \\\n0  Its Only Art If Its Well Hung!    NaN                7/7           4.0   \n1        Dr. Seuss: American Icon    NaN              10/10           5.0   \n2        Dr. Seuss: American Icon    NaN              10/11           5.0   \n3        Dr. Seuss: American Icon    NaN                7/7           4.0   \n4        Dr. Seuss: American Icon    NaN                3/3           4.0   \n\n                                    review/summary  \\\n0           Nice collection of Julie Strain images   \n1                                Really Enjoyed It   \n2  Essential for every personal and Public Library   \n3  Phlip Nel gives silly Seuss a serious treatment   \n4                           Good academic overview   \n\n                                         review/text                   title  \\\n0  This is only for Julie Strain fans. It's a col...           art well hung   \n1  I don't care much for Dr. Seuss but after read...  dr seuss american icon   \n2  If people become the books they read and if \"t...  dr seuss american icon   \n3  Theodore Seuss Geisel (1904-1991), aka &quot;D...  dr seuss american icon   \n4  Philip Nel - Dr. Seuss: American IconThis is b...  dr seuss american icon   \n\n                                review/Summary  \\\n0                nice collect juli strain imag   \n1                                 realli enjoy   \n2          essenti everi person public librari   \n3  phlip nel give silli seuss seriou treatment   \n4                         good academ overview   \n\n                                         review/Text  \n0  juli strain fan collect photo page worth nice ...  \n1  dont care much dr seuss read philip nel book c...  \n2  peopl becom book read child father man dr seus...  \n3  theodor seuss geisel aka quotdr seussquot one ...  \n4  philip nel dr seuss american iconthi basic aca...  ",
            "text/html": "<div>\n<style scoped>\n    .dataframe tbody tr th:only-of-type {\n        vertical-align: middle;\n    }\n\n    .dataframe tbody tr th {\n        vertical-align: top;\n    }\n\n    .dataframe thead th {\n        text-align: right;\n    }\n</style>\n<table border=\"1\" class=\"dataframe\">\n  <thead>\n    <tr style=\"text-align: right;\">\n      <th></th>\n      <th>Title</th>\n      <th>Price</th>\n      <th>review/helpfulness</th>\n      <th>review/score</th>\n      <th>review/summary</th>\n      <th>review/text</th>\n      <th>title</th>\n      <th>review/Summary</th>\n      <th>review/Text</th>\n    </tr>\n  </thead>\n  <tbody>\n    <tr>\n      <th>0</th>\n      <td>Its Only Art If Its Well Hung!</td>\n      <td>NaN</td>\n      <td>7/7</td>\n      <td>4.0</td>\n      <td>Nice collection of Julie Strain images</td>\n      <td>This is only for Julie Strain fans. It's a col...</td>\n      <td>art well hung</td>\n      <td>nice collect juli strain imag</td>\n      <td>juli strain fan collect photo page worth nice ...</td>\n    </tr>\n    <tr>\n      <th>1</th>\n      <td>Dr. Seuss: American Icon</td>\n      <td>NaN</td>\n      <td>10/10</td>\n      <td>5.0</td>\n      <td>Really Enjoyed It</td>\n      <td>I don't care much for Dr. Seuss but after read...</td>\n      <td>dr seuss american icon</td>\n      <td>realli enjoy</td>\n      <td>dont care much dr seuss read philip nel book c...</td>\n    </tr>\n    <tr>\n      <th>2</th>\n      <td>Dr. Seuss: American Icon</td>\n      <td>NaN</td>\n      <td>10/11</td>\n      <td>5.0</td>\n      <td>Essential for every personal and Public Library</td>\n      <td>If people become the books they read and if \"t...</td>\n      <td>dr seuss american icon</td>\n      <td>essenti everi person public librari</td>\n      <td>peopl becom book read child father man dr seus...</td>\n    </tr>\n    <tr>\n      <th>3</th>\n      <td>Dr. Seuss: American Icon</td>\n      <td>NaN</td>\n      <td>7/7</td>\n      <td>4.0</td>\n      <td>Phlip Nel gives silly Seuss a serious treatment</td>\n      <td>Theodore Seuss Geisel (1904-1991), aka &amp;quot;D...</td>\n      <td>dr seuss american icon</td>\n      <td>phlip nel give silli seuss seriou treatment</td>\n      <td>theodor seuss geisel aka quotdr seussquot one ...</td>\n    </tr>\n    <tr>\n      <th>4</th>\n      <td>Dr. Seuss: American Icon</td>\n      <td>NaN</td>\n      <td>3/3</td>\n      <td>4.0</td>\n      <td>Good academic overview</td>\n      <td>Philip Nel - Dr. Seuss: American IconThis is b...</td>\n      <td>dr seuss american icon</td>\n      <td>good academ overview</td>\n      <td>philip nel dr seuss american iconthi basic aca...</td>\n    </tr>\n  </tbody>\n</table>\n</div>"
          },
          "metadata": {}
        }
      ]
    },
    {
      "cell_type": "code",
      "source": [
        "ratings.drop(['title', 'review/summary', 'review/text', 'review/helpfulness'], axis = 1, inplace = True)\n",
        "ratings.shape"
      ],
      "metadata": {
        "execution": {
          "iopub.status.busy": "2024-09-04T06:45:24.915852Z",
          "iopub.execute_input": "2024-09-04T06:45:24.916424Z",
          "iopub.status.idle": "2024-09-04T06:45:25.204861Z",
          "shell.execute_reply.started": "2024-09-04T06:45:24.916372Z",
          "shell.execute_reply": "2024-09-04T06:45:25.20375Z"
        },
        "trusted": true,
        "id": "g_l-jCS23G1W",
        "outputId": "13edf92e-20c7-45a0-b774-3b9350be09bf"
      },
      "execution_count": null,
      "outputs": [
        {
          "execution_count": 15,
          "output_type": "execute_result",
          "data": {
            "text/plain": "(2999377, 5)"
          },
          "metadata": {}
        }
      ]
    },
    {
      "cell_type": "code",
      "source": [
        "# Remove duplicate rows\n",
        "ratings = ratings.drop_duplicates(keep = 'first')\n",
        "\n",
        "# Save the cleaned DataFrame to a new CSV file (optional)\n",
        "ratings.to_csv(\"Cleaned_ratings_no_duplicates.csv\", index=False)\n",
        "\n",
        "# Display the first few rows of the cleaned DataFrame\n",
        "ratings.head()"
      ],
      "metadata": {
        "execution": {
          "iopub.status.busy": "2024-09-04T06:45:28.680061Z",
          "iopub.execute_input": "2024-09-04T06:45:28.680512Z",
          "iopub.status.idle": "2024-09-04T06:46:49.700778Z",
          "shell.execute_reply.started": "2024-09-04T06:45:28.680472Z",
          "shell.execute_reply": "2024-09-04T06:46:49.699657Z"
        },
        "trusted": true,
        "id": "TBlinp0x3G1X",
        "outputId": "304a7222-16e2-482c-eab7-b1fb8063ec82"
      },
      "execution_count": null,
      "outputs": [
        {
          "execution_count": 16,
          "output_type": "execute_result",
          "data": {
            "text/plain": "                            Title  Price  review/score  \\\n0  Its Only Art If Its Well Hung!    NaN           4.0   \n1        Dr. Seuss: American Icon    NaN           5.0   \n2        Dr. Seuss: American Icon    NaN           5.0   \n3        Dr. Seuss: American Icon    NaN           4.0   \n4        Dr. Seuss: American Icon    NaN           4.0   \n\n                                review/Summary  \\\n0                nice collect juli strain imag   \n1                                 realli enjoy   \n2          essenti everi person public librari   \n3  phlip nel give silli seuss seriou treatment   \n4                         good academ overview   \n\n                                         review/Text  \n0  juli strain fan collect photo page worth nice ...  \n1  dont care much dr seuss read philip nel book c...  \n2  peopl becom book read child father man dr seus...  \n3  theodor seuss geisel aka quotdr seussquot one ...  \n4  philip nel dr seuss american iconthi basic aca...  ",
            "text/html": "<div>\n<style scoped>\n    .dataframe tbody tr th:only-of-type {\n        vertical-align: middle;\n    }\n\n    .dataframe tbody tr th {\n        vertical-align: top;\n    }\n\n    .dataframe thead th {\n        text-align: right;\n    }\n</style>\n<table border=\"1\" class=\"dataframe\">\n  <thead>\n    <tr style=\"text-align: right;\">\n      <th></th>\n      <th>Title</th>\n      <th>Price</th>\n      <th>review/score</th>\n      <th>review/Summary</th>\n      <th>review/Text</th>\n    </tr>\n  </thead>\n  <tbody>\n    <tr>\n      <th>0</th>\n      <td>Its Only Art If Its Well Hung!</td>\n      <td>NaN</td>\n      <td>4.0</td>\n      <td>nice collect juli strain imag</td>\n      <td>juli strain fan collect photo page worth nice ...</td>\n    </tr>\n    <tr>\n      <th>1</th>\n      <td>Dr. Seuss: American Icon</td>\n      <td>NaN</td>\n      <td>5.0</td>\n      <td>realli enjoy</td>\n      <td>dont care much dr seuss read philip nel book c...</td>\n    </tr>\n    <tr>\n      <th>2</th>\n      <td>Dr. Seuss: American Icon</td>\n      <td>NaN</td>\n      <td>5.0</td>\n      <td>essenti everi person public librari</td>\n      <td>peopl becom book read child father man dr seus...</td>\n    </tr>\n    <tr>\n      <th>3</th>\n      <td>Dr. Seuss: American Icon</td>\n      <td>NaN</td>\n      <td>4.0</td>\n      <td>phlip nel give silli seuss seriou treatment</td>\n      <td>theodor seuss geisel aka quotdr seussquot one ...</td>\n    </tr>\n    <tr>\n      <th>4</th>\n      <td>Dr. Seuss: American Icon</td>\n      <td>NaN</td>\n      <td>4.0</td>\n      <td>good academ overview</td>\n      <td>philip nel dr seuss american iconthi basic aca...</td>\n    </tr>\n  </tbody>\n</table>\n</div>"
          },
          "metadata": {}
        }
      ]
    },
    {
      "cell_type": "code",
      "source": [
        "ratings.shape"
      ],
      "metadata": {
        "execution": {
          "iopub.status.busy": "2024-09-04T06:47:09.511463Z",
          "iopub.execute_input": "2024-09-04T06:47:09.512422Z",
          "iopub.status.idle": "2024-09-04T06:47:09.520279Z",
          "shell.execute_reply.started": "2024-09-04T06:47:09.51237Z",
          "shell.execute_reply": "2024-09-04T06:47:09.519048Z"
        },
        "trusted": true,
        "id": "jM9ugkNl3G1Y",
        "outputId": "76fe067c-0800-4770-db2a-9b8fe44f2bba"
      },
      "execution_count": null,
      "outputs": [
        {
          "execution_count": 17,
          "output_type": "execute_result",
          "data": {
            "text/plain": "(2647307, 5)"
          },
          "metadata": {}
        }
      ]
    }
  ]
}